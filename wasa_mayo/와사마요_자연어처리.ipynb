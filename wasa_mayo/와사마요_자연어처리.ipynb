{
 "cells": [
  {
   "cell_type": "markdown",
   "metadata": {
    "id": "FgMYDR58l19b"
   },
   "source": [
    "## 댓글 자연어처리 및 감성분석"
   ]
  },
  {
   "cell_type": "markdown",
   "metadata": {
    "id": "uvK5dKhbl19d"
   },
   "source": [
    "#### 1. 필요한 라이브러리 및 파일 불러오기"
   ]
  },
  {
   "cell_type": "code",
   "execution_count": 1,
   "metadata": {
    "colab": {
     "base_uri": "https://localhost:8080/",
     "height": 422
    },
    "executionInfo": {
     "elapsed": 832,
     "status": "error",
     "timestamp": 1601449142970,
     "user": {
      "displayName": "Bokyoung Kim",
      "photoUrl": "",
      "userId": "04922175748497296981"
     },
     "user_tz": -540
    },
    "id": "hRcigHDXl19f",
    "outputId": "66ec2150-c9d8-436c-c12b-69499551e594"
   },
   "outputs": [],
   "source": [
    "import pandas as pd\n",
    "import numpy as np\n",
    "\n",
    "df = pd.DataFrame(pd.read_excel('와사마요.xlsx'))"
   ]
  },
  {
   "cell_type": "code",
   "execution_count": 5,
   "metadata": {},
   "outputs": [
    {
     "data": {
      "text/html": [
       "<div>\n",
       "<style scoped>\n",
       "    .dataframe tbody tr th:only-of-type {\n",
       "        vertical-align: middle;\n",
       "    }\n",
       "\n",
       "    .dataframe tbody tr th {\n",
       "        vertical-align: top;\n",
       "    }\n",
       "\n",
       "    .dataframe thead th {\n",
       "        text-align: right;\n",
       "    }\n",
       "</style>\n",
       "<table border=\"1\" class=\"dataframe\">\n",
       "  <thead>\n",
       "    <tr style=\"text-align: right;\">\n",
       "      <th></th>\n",
       "      <th>Comment</th>\n",
       "    </tr>\n",
       "  </thead>\n",
       "  <tbody>\n",
       "    <tr>\n",
       "      <th>0</th>\n",
       "      <td>이 영상 왜인지 모르게 마약영상임... 지금만 구라안치고 100번 넘게 본 듯 .....</td>\n",
       "    </tr>\n",
       "    <tr>\n",
       "      <th>1</th>\n",
       "      <td>아저씨가 장사를 잘하네</td>\n",
       "    </tr>\n",
       "    <tr>\n",
       "      <th>2</th>\n",
       "      <td>아저씨가 그러는데 마트가  유행이래 . 그래서 마트를 삿고</td>\n",
       "    </tr>\n",
       "    <tr>\n",
       "      <th>3</th>\n",
       "      <td>귀가 너무 얇은거 아니에요? ㅋㅋㅋ 아저씨가 수박바에서 레몬맛 난다고해도 믿으실듯 ㅋㅋㅋ</td>\n",
       "    </tr>\n",
       "    <tr>\n",
       "      <th>4</th>\n",
       "      <td>5:58ㅋㅋㅋㅋ \"으음..옴뫄 어어얽!!! ........오오~~\"ㅋㅋㅋㅋㅋㅋㅋㅋㅋ...</td>\n",
       "    </tr>\n",
       "    <tr>\n",
       "      <th>...</th>\n",
       "      <td>...</td>\n",
       "    </tr>\n",
       "    <tr>\n",
       "      <th>13580</th>\n",
       "      <td>이거 진짜 개노맛 왜만든거지</td>\n",
       "    </tr>\n",
       "    <tr>\n",
       "      <th>13581</th>\n",
       "      <td>모자 간지나시네~~~~\\n앞아로는 이런거 말고 맛있는거 드셔주세욬ㅋㅋㅋㅋㅋ</td>\n",
       "    </tr>\n",
       "    <tr>\n",
       "      <th>13582</th>\n",
       "      <td>컵라면 하나에 40분 실화냐...\\n전 빨리 먹고 후기 하는줄</td>\n",
       "    </tr>\n",
       "    <tr>\n",
       "      <th>13583</th>\n",
       "      <td>1:15 입안에 내용물이 안보이게 손으로 가려서해주셨으면 좋겠어용 ㅎㅎ❤</td>\n",
       "    </tr>\n",
       "    <tr>\n",
       "      <th>13584</th>\n",
       "      <td>뭔가  철없고  불쌍해보이고  백수같이 생겼다ㅋㅋㅋㅋㅋ 그리고  덤으로  못생김ㅋㅋㅋㅋㅋ</td>\n",
       "    </tr>\n",
       "  </tbody>\n",
       "</table>\n",
       "<p>13585 rows × 1 columns</p>\n",
       "</div>"
      ],
      "text/plain": [
       "                                                 Comment\n",
       "0      이 영상 왜인지 모르게 마약영상임... 지금만 구라안치고 100번 넘게 본 듯 .....\n",
       "1                                           아저씨가 장사를 잘하네\n",
       "2                       아저씨가 그러는데 마트가  유행이래 . 그래서 마트를 삿고\n",
       "3      귀가 너무 얇은거 아니에요? ㅋㅋㅋ 아저씨가 수박바에서 레몬맛 난다고해도 믿으실듯 ㅋㅋㅋ\n",
       "4      5:58ㅋㅋㅋㅋ \"으음..옴뫄 어어얽!!! ........오오~~\"ㅋㅋㅋㅋㅋㅋㅋㅋㅋ...\n",
       "...                                                  ...\n",
       "13580                                    이거 진짜 개노맛 왜만든거지\n",
       "13581          모자 간지나시네~~~~\\n앞아로는 이런거 말고 맛있는거 드셔주세욬ㅋㅋㅋㅋㅋ\n",
       "13582                 컵라면 하나에 40분 실화냐...\\n전 빨리 먹고 후기 하는줄\n",
       "13583           1:15 입안에 내용물이 안보이게 손으로 가려서해주셨으면 좋겠어용 ㅎㅎ❤\n",
       "13584  뭔가  철없고  불쌍해보이고  백수같이 생겼다ㅋㅋㅋㅋㅋ 그리고  덤으로  못생김ㅋㅋㅋㅋㅋ\n",
       "\n",
       "[13585 rows x 1 columns]"
      ]
     },
     "execution_count": 5,
     "metadata": {},
     "output_type": "execute_result"
    }
   ],
   "source": [
    "df"
   ]
  },
  {
   "cell_type": "code",
   "execution_count": 6,
   "metadata": {
    "colab": {
     "base_uri": "https://localhost:8080/",
     "height": 185
    },
    "executionInfo": {
     "elapsed": 2465,
     "status": "error",
     "timestamp": 1601448642708,
     "user": {
      "displayName": "Bokyoung Kim",
      "photoUrl": "",
      "userId": "04922175748497296981"
     },
     "user_tz": -540
    },
    "id": "2FCXjs_ml19j",
    "outputId": "5ec96b07-dad0-4b6d-b6d6-8e0726cf6f97"
   },
   "outputs": [
    {
     "data": {
      "text/html": [
       "<div>\n",
       "<style scoped>\n",
       "    .dataframe tbody tr th:only-of-type {\n",
       "        vertical-align: middle;\n",
       "    }\n",
       "\n",
       "    .dataframe tbody tr th {\n",
       "        vertical-align: top;\n",
       "    }\n",
       "\n",
       "    .dataframe thead th {\n",
       "        text-align: right;\n",
       "    }\n",
       "</style>\n",
       "<table border=\"1\" class=\"dataframe\">\n",
       "  <thead>\n",
       "    <tr style=\"text-align: right;\">\n",
       "      <th></th>\n",
       "      <th>Comment</th>\n",
       "    </tr>\n",
       "  </thead>\n",
       "  <tbody>\n",
       "    <tr>\n",
       "      <th>0</th>\n",
       "      <td>이 영상 왜인지 모르게 마약영상임... 지금만 구라안치고 100번 넘게 본 듯 .....</td>\n",
       "    </tr>\n",
       "    <tr>\n",
       "      <th>1</th>\n",
       "      <td>아저씨가 장사를 잘하네</td>\n",
       "    </tr>\n",
       "    <tr>\n",
       "      <th>2</th>\n",
       "      <td>아저씨가 그러는데 마트가  유행이래 . 그래서 마트를 삿고</td>\n",
       "    </tr>\n",
       "    <tr>\n",
       "      <th>3</th>\n",
       "      <td>귀가 너무 얇은거 아니에요? ㅋㅋㅋ 아저씨가 수박바에서 레몬맛 난다고해도 믿으실듯 ㅋㅋㅋ</td>\n",
       "    </tr>\n",
       "    <tr>\n",
       "      <th>4</th>\n",
       "      <td>5:58ㅋㅋㅋㅋ \"으음..옴뫄 어어얽!!! ........오오~~\"ㅋㅋㅋㅋㅋㅋㅋㅋㅋ...</td>\n",
       "    </tr>\n",
       "    <tr>\n",
       "      <th>...</th>\n",
       "      <td>...</td>\n",
       "    </tr>\n",
       "    <tr>\n",
       "      <th>13580</th>\n",
       "      <td>이거 진짜 개노맛 왜만든거지</td>\n",
       "    </tr>\n",
       "    <tr>\n",
       "      <th>13581</th>\n",
       "      <td>모자 간지나시네~~~~\\n앞아로는 이런거 말고 맛있는거 드셔주세욬ㅋㅋㅋㅋㅋ</td>\n",
       "    </tr>\n",
       "    <tr>\n",
       "      <th>13582</th>\n",
       "      <td>컵라면 하나에 40분 실화냐...\\n전 빨리 먹고 후기 하는줄</td>\n",
       "    </tr>\n",
       "    <tr>\n",
       "      <th>13583</th>\n",
       "      <td>1:15 입안에 내용물이 안보이게 손으로 가려서해주셨으면 좋겠어용 ㅎㅎ❤</td>\n",
       "    </tr>\n",
       "    <tr>\n",
       "      <th>13584</th>\n",
       "      <td>뭔가  철없고  불쌍해보이고  백수같이 생겼다ㅋㅋㅋㅋㅋ 그리고  덤으로  못생김ㅋㅋㅋㅋㅋ</td>\n",
       "    </tr>\n",
       "  </tbody>\n",
       "</table>\n",
       "<p>13585 rows × 1 columns</p>\n",
       "</div>"
      ],
      "text/plain": [
       "                                                 Comment\n",
       "0      이 영상 왜인지 모르게 마약영상임... 지금만 구라안치고 100번 넘게 본 듯 .....\n",
       "1                                           아저씨가 장사를 잘하네\n",
       "2                       아저씨가 그러는데 마트가  유행이래 . 그래서 마트를 삿고\n",
       "3      귀가 너무 얇은거 아니에요? ㅋㅋㅋ 아저씨가 수박바에서 레몬맛 난다고해도 믿으실듯 ㅋㅋㅋ\n",
       "4      5:58ㅋㅋㅋㅋ \"으음..옴뫄 어어얽!!! ........오오~~\"ㅋㅋㅋㅋㅋㅋㅋㅋㅋ...\n",
       "...                                                  ...\n",
       "13580                                    이거 진짜 개노맛 왜만든거지\n",
       "13581          모자 간지나시네~~~~\\n앞아로는 이런거 말고 맛있는거 드셔주세욬ㅋㅋㅋㅋㅋ\n",
       "13582                 컵라면 하나에 40분 실화냐...\\n전 빨리 먹고 후기 하는줄\n",
       "13583           1:15 입안에 내용물이 안보이게 손으로 가려서해주셨으면 좋겠어용 ㅎㅎ❤\n",
       "13584  뭔가  철없고  불쌍해보이고  백수같이 생겼다ㅋㅋㅋㅋㅋ 그리고  덤으로  못생김ㅋㅋㅋㅋㅋ\n",
       "\n",
       "[13585 rows x 1 columns]"
      ]
     },
     "execution_count": 6,
     "metadata": {},
     "output_type": "execute_result"
    }
   ],
   "source": [
    "df= df[['Comment']] \n",
    "df"
   ]
  },
  {
   "cell_type": "markdown",
   "metadata": {
    "id": "sh04ZIjyl19q"
   },
   "source": [
    "#### 2. 한글 제외한 문자 제거"
   ]
  },
  {
   "cell_type": "code",
   "execution_count": 7,
   "metadata": {
    "id": "1eCrbZqrl19q"
   },
   "outputs": [],
   "source": [
    "import re \n",
    "# '한글'을 제외한 다른 문자 모두 제거\n",
    "remove_except_ko = re.compile(r\"[^가-힣ㄱ-ㅎㅏ-ㅣ\\\\s]\")\n",
    "def preprocess(text):\n",
    "    text = re.sub(remove_except_ko,' ',text).strip()\n",
    "    return text\n",
    "\n",
    "df['Comment'] = df['Comment'].map(lambda x : preprocess(x))"
   ]
  },
  {
   "cell_type": "code",
   "execution_count": 8,
   "metadata": {
    "id": "hJxt_qW7l19t",
    "outputId": "9dd744d2-a3f0-458c-a454-3075511b45dd"
   },
   "outputs": [
    {
     "data": {
      "text/html": [
       "<div>\n",
       "<style scoped>\n",
       "    .dataframe tbody tr th:only-of-type {\n",
       "        vertical-align: middle;\n",
       "    }\n",
       "\n",
       "    .dataframe tbody tr th {\n",
       "        vertical-align: top;\n",
       "    }\n",
       "\n",
       "    .dataframe thead th {\n",
       "        text-align: right;\n",
       "    }\n",
       "</style>\n",
       "<table border=\"1\" class=\"dataframe\">\n",
       "  <thead>\n",
       "    <tr style=\"text-align: right;\">\n",
       "      <th></th>\n",
       "      <th>Comment</th>\n",
       "    </tr>\n",
       "  </thead>\n",
       "  <tbody>\n",
       "    <tr>\n",
       "      <th>0</th>\n",
       "      <td>이 영상 왜인지 모르게 마약영상임    지금만 구라안치고    번 넘게 본 듯   ...</td>\n",
       "    </tr>\n",
       "    <tr>\n",
       "      <th>1</th>\n",
       "      <td>아저씨가 장사를 잘하네</td>\n",
       "    </tr>\n",
       "    <tr>\n",
       "      <th>2</th>\n",
       "      <td>아저씨가 그러는데 마트가  유행이래   그래서 마트를 삿고</td>\n",
       "    </tr>\n",
       "    <tr>\n",
       "      <th>3</th>\n",
       "      <td>귀가 너무 얇은거 아니에요  ㅋㅋㅋ 아저씨가 수박바에서 레몬맛 난다고해도 믿으실듯 ㅋㅋㅋ</td>\n",
       "    </tr>\n",
       "    <tr>\n",
       "      <th>4</th>\n",
       "      <td>ㅋㅋㅋㅋ  으음  옴뫄 어어얽            오오   ㅋㅋㅋㅋㅋㅋㅋㅋㅋㅋㅋㅋㅋ...</td>\n",
       "    </tr>\n",
       "    <tr>\n",
       "      <th>5</th>\n",
       "      <td>아저씨가 많이먹는게 유행이래 ㅋㅋㅋ</td>\n",
       "    </tr>\n",
       "    <tr>\n",
       "      <th>6</th>\n",
       "      <td>가장 재밌었던 부분의 시간을 남겨주세요     바로클릭해볼께요</td>\n",
       "    </tr>\n",
       "    <tr>\n",
       "      <th>7</th>\n",
       "      <td>솔직히 말해봐요 그냥 언니가 먹고싶은거 사온거죠 ㅋㅋㅋㅋㅋㅋㅋㅋㅋㅋㅋㅋ저정도면 아저...</td>\n",
       "    </tr>\n",
       "    <tr>\n",
       "      <th>8</th>\n",
       "      <td>정지해서보면 개웃긴ㅋㅋㅋ</td>\n",
       "    </tr>\n",
       "    <tr>\n",
       "      <th>9</th>\n",
       "      <td>너무 진지햌ㅋㅋㅋㅋㅋㅋ</td>\n",
       "    </tr>\n",
       "  </tbody>\n",
       "</table>\n",
       "</div>"
      ],
      "text/plain": [
       "                                             Comment\n",
       "0  이 영상 왜인지 모르게 마약영상임    지금만 구라안치고    번 넘게 본 듯   ...\n",
       "1                                       아저씨가 장사를 잘하네\n",
       "2                   아저씨가 그러는데 마트가  유행이래   그래서 마트를 삿고\n",
       "3  귀가 너무 얇은거 아니에요  ㅋㅋㅋ 아저씨가 수박바에서 레몬맛 난다고해도 믿으실듯 ㅋㅋㅋ\n",
       "4  ㅋㅋㅋㅋ  으음  옴뫄 어어얽            오오   ㅋㅋㅋㅋㅋㅋㅋㅋㅋㅋㅋㅋㅋ...\n",
       "5                                아저씨가 많이먹는게 유행이래 ㅋㅋㅋ\n",
       "6                 가장 재밌었던 부분의 시간을 남겨주세요     바로클릭해볼께요\n",
       "7  솔직히 말해봐요 그냥 언니가 먹고싶은거 사온거죠 ㅋㅋㅋㅋㅋㅋㅋㅋㅋㅋㅋㅋ저정도면 아저...\n",
       "8                                      정지해서보면 개웃긴ㅋㅋㅋ\n",
       "9                                       너무 진지햌ㅋㅋㅋㅋㅋㅋ"
      ]
     },
     "execution_count": 8,
     "metadata": {},
     "output_type": "execute_result"
    }
   ],
   "source": [
    "df.head(10)"
   ]
  },
  {
   "cell_type": "markdown",
   "metadata": {
    "id": "hmWw_e82l19w"
   },
   "source": [
    "#### 3. OKT 토큰화와 필요없는 조사 제거 "
   ]
  },
  {
   "cell_type": "code",
   "execution_count": 9,
   "metadata": {
    "id": "A_X4wTMKl19x"
   },
   "outputs": [],
   "source": [
    "from konlpy.tag import Okt\n",
    "okt=Okt()\n",
    "# mecab 사용해 토큰화, 한글자 제거, stop_word 제거\n",
    "stop_word = ['께서','에서','이다','에게','으로','이랑','까지','부터','하다']\n",
    "stopPos = ['Determiner','Adverb','Conjuctions','Josa','PreEomi','Eomi','Suffix',\n",
    "          'Punctuation','Foreign','Alpha','Number','Unknown','KoreanParticle']\n",
    "def token_okt(text):\n",
    "    text = okt.pos(text)\n",
    "    text = [i for i in text if len(i[0])>1]\n",
    "    text = [i for i in text if i[0] not in stop_word]\n",
    "    text = [i[0] for i in text if i[1] not in stopPos]\n",
    "    return text"
   ]
  },
  {
   "cell_type": "code",
   "execution_count": 11,
   "metadata": {
    "id": "D3t0WW2El19z",
    "outputId": "733f9dba-ec78-4450-9daf-d2d6ba94ac07"
   },
   "outputs": [
    {
     "name": "stdout",
     "output_type": "stream",
     "text": [
      "0 / 13585\n",
      "500 / 13585\n",
      "1000 / 13585\n",
      "1500 / 13585\n",
      "2000 / 13585\n",
      "2500 / 13585\n",
      "3000 / 13585\n",
      "3500 / 13585\n",
      "4000 / 13585\n",
      "4500 / 13585\n",
      "5000 / 13585\n",
      "5500 / 13585\n",
      "6000 / 13585\n",
      "6500 / 13585\n",
      "7000 / 13585\n",
      "7500 / 13585\n",
      "8000 / 13585\n",
      "8500 / 13585\n",
      "9000 / 13585\n",
      "9500 / 13585\n",
      "10000 / 13585\n",
      "10500 / 13585\n",
      "11000 / 13585\n",
      "11500 / 13585\n",
      "12000 / 13585\n",
      "12500 / 13585\n",
      "13000 / 13585\n",
      "13500 / 13585\n"
     ]
    }
   ],
   "source": [
    "# 토큰화 + 토큰리스트 생성 \n",
    "def make_tokens(df):\n",
    "    df['tokens'] = ''\n",
    "    tokens_list=[]\n",
    "    for i, row in df.iterrows():\n",
    "        if i%500==0:\n",
    "            print(i,'/',len(df))\n",
    "        token = token_okt(df['Comment'][i])\n",
    "        df['tokens'][i] = ' '.join(token)\n",
    "    return df\n",
    "\n",
    "df = make_tokens(df)"
   ]
  },
  {
   "cell_type": "code",
   "execution_count": 12,
   "metadata": {
    "id": "s6Ke9Kh6l193",
    "outputId": "46488dfa-2547-4158-d718-568f40f10cb0"
   },
   "outputs": [
    {
     "data": {
      "text/plain": [
       "Comment    269\n",
       "tokens     913\n",
       "dtype: int64"
      ]
     },
     "execution_count": 12,
     "metadata": {},
     "output_type": "execute_result"
    }
   ],
   "source": [
    "# 빈칸 찾아내기\n",
    "df.replace('', np.nan, inplace=True)\n",
    "df.isnull().sum()"
   ]
  },
  {
   "cell_type": "code",
   "execution_count": 13,
   "metadata": {
    "id": "rsgfg3TNl196",
    "outputId": "d92c2207-5efd-43e3-d5bf-3ee1a23a1f41"
   },
   "outputs": [
    {
     "data": {
      "text/plain": [
       "Comment    0\n",
       "tokens     0\n",
       "dtype: int64"
      ]
     },
     "execution_count": 13,
     "metadata": {},
     "output_type": "execute_result"
    }
   ],
   "source": [
    "#Null 값 없애기\n",
    "df=df.dropna()\n",
    "df.isnull().sum()"
   ]
  },
  {
   "cell_type": "code",
   "execution_count": 14,
   "metadata": {
    "id": "3Pz8R3Dil199",
    "outputId": "508fed1f-ee56-453e-9ff4-f48cd62635f0"
   },
   "outputs": [
    {
     "data": {
      "text/html": [
       "<div>\n",
       "<style scoped>\n",
       "    .dataframe tbody tr th:only-of-type {\n",
       "        vertical-align: middle;\n",
       "    }\n",
       "\n",
       "    .dataframe tbody tr th {\n",
       "        vertical-align: top;\n",
       "    }\n",
       "\n",
       "    .dataframe thead th {\n",
       "        text-align: right;\n",
       "    }\n",
       "</style>\n",
       "<table border=\"1\" class=\"dataframe\">\n",
       "  <thead>\n",
       "    <tr style=\"text-align: right;\">\n",
       "      <th></th>\n",
       "      <th>Comment</th>\n",
       "      <th>tokens</th>\n",
       "    </tr>\n",
       "  </thead>\n",
       "  <tbody>\n",
       "    <tr>\n",
       "      <th>0</th>\n",
       "      <td>이 영상 왜인지 모르게 마약영상임    지금만 구라안치고    번 넘게 본 듯   ...</td>\n",
       "      <td>영상 왜인 모르게 마약 상임 지금 구라안치고 넘게 컨텐츠 아닌 평소 기여웡</td>\n",
       "    </tr>\n",
       "    <tr>\n",
       "      <th>1</th>\n",
       "      <td>아저씨가 장사를 잘하네</td>\n",
       "      <td>아저씨 장사 하네</td>\n",
       "    </tr>\n",
       "    <tr>\n",
       "      <th>2</th>\n",
       "      <td>아저씨가 그러는데 마트가  유행이래   그래서 마트를 삿고</td>\n",
       "      <td>아저씨 그러는데 마트 유행 마트</td>\n",
       "    </tr>\n",
       "    <tr>\n",
       "      <th>3</th>\n",
       "      <td>귀가 너무 얇은거 아니에요  ㅋㅋㅋ 아저씨가 수박바에서 레몬맛 난다고해도 믿으실듯 ㅋㅋㅋ</td>\n",
       "      <td>귀가 얇은거 아니에요 아저씨 수박 레몬 난다고 해도 믿으실듯</td>\n",
       "    </tr>\n",
       "    <tr>\n",
       "      <th>4</th>\n",
       "      <td>ㅋㅋㅋㅋ  으음  옴뫄 어어얽            오오   ㅋㅋㅋㅋㅋㅋㅋㅋㅋㅋㅋㅋㅋ...</td>\n",
       "      <td>으음 옴뫄 어어 오오</td>\n",
       "    </tr>\n",
       "    <tr>\n",
       "      <th>5</th>\n",
       "      <td>아저씨가 많이먹는게 유행이래 ㅋㅋㅋ</td>\n",
       "      <td>아저씨 먹는게 유행</td>\n",
       "    </tr>\n",
       "    <tr>\n",
       "      <th>6</th>\n",
       "      <td>가장 재밌었던 부분의 시간을 남겨주세요     바로클릭해볼께요</td>\n",
       "      <td>가장 재밌었던 부분 시간 남겨주세요 바로 클릭 해볼께요</td>\n",
       "    </tr>\n",
       "    <tr>\n",
       "      <th>7</th>\n",
       "      <td>솔직히 말해봐요 그냥 언니가 먹고싶은거 사온거죠 ㅋㅋㅋㅋㅋㅋㅋㅋㅋㅋㅋㅋ저정도면 아저...</td>\n",
       "      <td>솔직히 해봐요 그냥 언니 먹고 싶은거 사온거죠 정도 아저씨 언니 호갱 본거아니</td>\n",
       "    </tr>\n",
       "    <tr>\n",
       "      <th>8</th>\n",
       "      <td>정지해서보면 개웃긴ㅋㅋㅋ</td>\n",
       "      <td>정지 해서 보면 웃긴</td>\n",
       "    </tr>\n",
       "    <tr>\n",
       "      <th>9</th>\n",
       "      <td>너무 진지햌ㅋㅋㅋㅋㅋㅋ</td>\n",
       "      <td>진지</td>\n",
       "    </tr>\n",
       "  </tbody>\n",
       "</table>\n",
       "</div>"
      ],
      "text/plain": [
       "                                             Comment  \\\n",
       "0  이 영상 왜인지 모르게 마약영상임    지금만 구라안치고    번 넘게 본 듯   ...   \n",
       "1                                       아저씨가 장사를 잘하네   \n",
       "2                   아저씨가 그러는데 마트가  유행이래   그래서 마트를 삿고   \n",
       "3  귀가 너무 얇은거 아니에요  ㅋㅋㅋ 아저씨가 수박바에서 레몬맛 난다고해도 믿으실듯 ㅋㅋㅋ   \n",
       "4  ㅋㅋㅋㅋ  으음  옴뫄 어어얽            오오   ㅋㅋㅋㅋㅋㅋㅋㅋㅋㅋㅋㅋㅋ...   \n",
       "5                                아저씨가 많이먹는게 유행이래 ㅋㅋㅋ   \n",
       "6                 가장 재밌었던 부분의 시간을 남겨주세요     바로클릭해볼께요   \n",
       "7  솔직히 말해봐요 그냥 언니가 먹고싶은거 사온거죠 ㅋㅋㅋㅋㅋㅋㅋㅋㅋㅋㅋㅋ저정도면 아저...   \n",
       "8                                      정지해서보면 개웃긴ㅋㅋㅋ   \n",
       "9                                       너무 진지햌ㅋㅋㅋㅋㅋㅋ   \n",
       "\n",
       "                                        tokens  \n",
       "0    영상 왜인 모르게 마약 상임 지금 구라안치고 넘게 컨텐츠 아닌 평소 기여웡  \n",
       "1                                    아저씨 장사 하네  \n",
       "2                            아저씨 그러는데 마트 유행 마트  \n",
       "3            귀가 얇은거 아니에요 아저씨 수박 레몬 난다고 해도 믿으실듯  \n",
       "4                                  으음 옴뫄 어어 오오  \n",
       "5                                   아저씨 먹는게 유행  \n",
       "6               가장 재밌었던 부분 시간 남겨주세요 바로 클릭 해볼께요  \n",
       "7  솔직히 해봐요 그냥 언니 먹고 싶은거 사온거죠 정도 아저씨 언니 호갱 본거아니  \n",
       "8                                  정지 해서 보면 웃긴  \n",
       "9                                           진지  "
      ]
     },
     "execution_count": 14,
     "metadata": {},
     "output_type": "execute_result"
    }
   ],
   "source": [
    "df.head(10)"
   ]
  },
  {
   "cell_type": "code",
   "execution_count": 15,
   "metadata": {
    "id": "vbL9AB9Yl19_"
   },
   "outputs": [],
   "source": [
    "df.to_csv(r'와사마요_tokenization.csv')"
   ]
  },
  {
   "cell_type": "code",
   "execution_count": 18,
   "metadata": {
    "id": "O9MPJNTEl1-B"
   },
   "outputs": [],
   "source": [
    "data = pd.read_csv(r'와사마요_tokenization.csv')"
   ]
  },
  {
   "cell_type": "code",
   "execution_count": 24,
   "metadata": {},
   "outputs": [],
   "source": [
    "data.to_csv('와사마요_토큰화.csv')"
   ]
  },
  {
   "cell_type": "code",
   "execution_count": 20,
   "metadata": {
    "id": "zop9m9lLl1-D"
   },
   "outputs": [],
   "source": [
    "df_new = pd.DataFrame(data)"
   ]
  },
  {
   "cell_type": "code",
   "execution_count": 21,
   "metadata": {
    "id": "i1b3n7tal1-F"
   },
   "outputs": [],
   "source": [
    "df_new = df_new[['tokens']]"
   ]
  },
  {
   "cell_type": "code",
   "execution_count": 22,
   "metadata": {
    "id": "KLOiKz_Il1-H",
    "outputId": "19cdd602-25e4-41a3-869e-0eebfb51d01d"
   },
   "outputs": [
    {
     "data": {
      "text/html": [
       "<div>\n",
       "<style scoped>\n",
       "    .dataframe tbody tr th:only-of-type {\n",
       "        vertical-align: middle;\n",
       "    }\n",
       "\n",
       "    .dataframe tbody tr th {\n",
       "        vertical-align: top;\n",
       "    }\n",
       "\n",
       "    .dataframe thead th {\n",
       "        text-align: right;\n",
       "    }\n",
       "</style>\n",
       "<table border=\"1\" class=\"dataframe\">\n",
       "  <thead>\n",
       "    <tr style=\"text-align: right;\">\n",
       "      <th></th>\n",
       "      <th>tokens</th>\n",
       "    </tr>\n",
       "  </thead>\n",
       "  <tbody>\n",
       "    <tr>\n",
       "      <th>0</th>\n",
       "      <td>영상 왜인 모르게 마약 상임 지금 구라안치고 넘게 컨텐츠 아닌 평소 기여웡</td>\n",
       "    </tr>\n",
       "    <tr>\n",
       "      <th>1</th>\n",
       "      <td>아저씨 장사 하네</td>\n",
       "    </tr>\n",
       "    <tr>\n",
       "      <th>2</th>\n",
       "      <td>아저씨 그러는데 마트 유행 마트</td>\n",
       "    </tr>\n",
       "    <tr>\n",
       "      <th>3</th>\n",
       "      <td>귀가 얇은거 아니에요 아저씨 수박 레몬 난다고 해도 믿으실듯</td>\n",
       "    </tr>\n",
       "    <tr>\n",
       "      <th>4</th>\n",
       "      <td>으음 옴뫄 어어 오오</td>\n",
       "    </tr>\n",
       "    <tr>\n",
       "      <th>...</th>\n",
       "      <td>...</td>\n",
       "    </tr>\n",
       "    <tr>\n",
       "      <th>12667</th>\n",
       "      <td>진짜 개노 거지</td>\n",
       "    </tr>\n",
       "    <tr>\n",
       "      <th>12668</th>\n",
       "      <td>모자 간지나시네 이런거 맛있는거 드셔주세</td>\n",
       "    </tr>\n",
       "    <tr>\n",
       "      <th>12669</th>\n",
       "      <td>컵라면 하나 실화 먹고 후기 하는줄</td>\n",
       "    </tr>\n",
       "    <tr>\n",
       "      <th>12670</th>\n",
       "      <td>입안 내용물 안보 가려서 해주셨으면 좋겠어용</td>\n",
       "    </tr>\n",
       "    <tr>\n",
       "      <th>12671</th>\n",
       "      <td>뭔가 없고 불쌍해 보이 백수 생겼다 그리고 생김</td>\n",
       "    </tr>\n",
       "  </tbody>\n",
       "</table>\n",
       "<p>12672 rows × 1 columns</p>\n",
       "</div>"
      ],
      "text/plain": [
       "                                          tokens\n",
       "0      영상 왜인 모르게 마약 상임 지금 구라안치고 넘게 컨텐츠 아닌 평소 기여웡\n",
       "1                                      아저씨 장사 하네\n",
       "2                              아저씨 그러는데 마트 유행 마트\n",
       "3              귀가 얇은거 아니에요 아저씨 수박 레몬 난다고 해도 믿으실듯\n",
       "4                                    으음 옴뫄 어어 오오\n",
       "...                                          ...\n",
       "12667                                   진짜 개노 거지\n",
       "12668                     모자 간지나시네 이런거 맛있는거 드셔주세\n",
       "12669                        컵라면 하나 실화 먹고 후기 하는줄\n",
       "12670                   입안 내용물 안보 가려서 해주셨으면 좋겠어용\n",
       "12671                 뭔가 없고 불쌍해 보이 백수 생겼다 그리고 생김\n",
       "\n",
       "[12672 rows x 1 columns]"
      ]
     },
     "execution_count": 22,
     "metadata": {},
     "output_type": "execute_result"
    }
   ],
   "source": [
    "df_new"
   ]
  },
  {
   "cell_type": "markdown",
   "metadata": {
    "id": "RYZuYVRNl1-J"
   },
   "source": [
    "#### 4. 감정 사전 불러오기"
   ]
  },
  {
   "cell_type": "code",
   "execution_count": null,
   "metadata": {
    "id": "DOtPfkzcl1-J",
    "outputId": "ee0a1d14-a566-4e75-f283-ca0baff54917"
   },
   "outputs": [],
   "source": [
    "pos_dict = pd.DataFrame(pd.read_csv(r'C:\\Users\\ASIA_09\\Desktop\\KnuSentiLex\\pos_pol_word.txt', sep='\\n', quoting=3))\n",
    "pos_dict.head()"
   ]
  },
  {
   "cell_type": "code",
   "execution_count": null,
   "metadata": {
    "id": "uab69sh_l1-M",
    "outputId": "7f4965be-a54a-4e04-e166-eb0ed3c47cb5"
   },
   "outputs": [
    {
     "data": {
      "text/html": [
       "<div>\n",
       "<style scoped>\n",
       "    .dataframe tbody tr th:only-of-type {\n",
       "        vertical-align: middle;\n",
       "    }\n",
       "\n",
       "    .dataframe tbody tr th {\n",
       "        vertical-align: top;\n",
       "    }\n",
       "\n",
       "    .dataframe thead th {\n",
       "        text-align: right;\n",
       "    }\n",
       "</style>\n",
       "<table border=\"1\" class=\"dataframe\">\n",
       "  <thead>\n",
       "    <tr style=\"text-align: right;\">\n",
       "      <th></th>\n",
       "      <th>word</th>\n",
       "    </tr>\n",
       "  </thead>\n",
       "  <tbody>\n",
       "    <tr>\n",
       "      <th>0</th>\n",
       "      <td>가난</td>\n",
       "    </tr>\n",
       "    <tr>\n",
       "      <th>1</th>\n",
       "      <td>가난뱅이</td>\n",
       "    </tr>\n",
       "    <tr>\n",
       "      <th>2</th>\n",
       "      <td>가난살이</td>\n",
       "    </tr>\n",
       "    <tr>\n",
       "      <th>3</th>\n",
       "      <td>가난살이하다</td>\n",
       "    </tr>\n",
       "    <tr>\n",
       "      <th>4</th>\n",
       "      <td>가난설음</td>\n",
       "    </tr>\n",
       "  </tbody>\n",
       "</table>\n",
       "</div>"
      ],
      "text/plain": [
       "     word\n",
       "0      가난\n",
       "1    가난뱅이\n",
       "2    가난살이\n",
       "3  가난살이하다\n",
       "4    가난설음"
      ]
     },
     "execution_count": 82,
     "metadata": {
      "tags": []
     },
     "output_type": "execute_result"
    }
   ],
   "source": [
    "neg_dict = pd.DataFrame(pd.read_csv(r'C:\\Users\\ASIA_09\\Desktop\\KnuSentiLex\\neg_pol_word.txt', sep='\\n', quoting=3))\n",
    "neg_dict.head()"
   ]
  },
  {
   "cell_type": "markdown",
   "metadata": {
    "id": "iUkoTUg8l1-O"
   },
   "source": [
    "#### 5. 댓글의 Tone 측정하기"
   ]
  },
  {
   "cell_type": "code",
   "execution_count": null,
   "metadata": {
    "id": "SGI_FxC4l1-O",
    "outputId": "29794da7-20b5-454a-fc0e-f25e348afc4b"
   },
   "outputs": [
    {
     "name": "stderr",
     "output_type": "stream",
     "text": [
      "C:\\anaconda3\\envs\\py37\\lib\\site-packages\\ipykernel_launcher.py:21: SettingWithCopyWarning: \n",
      "A value is trying to be set on a copy of a slice from a DataFrame.\n",
      "Try using .loc[row_indexer,col_indexer] = value instead\n",
      "\n",
      "See the caveats in the documentation: https://pandas.pydata.org/pandas-docs/stable/user_guide/indexing.html#returning-a-view-versus-a-copy\n"
     ]
    }
   ],
   "source": [
    "tone_ls = []\n",
    "for doc in df_new['tokens']:\n",
    "    #print(doc.split())\n",
    "    #words=[]\n",
    "    #words.append(doc.split(' '))\n",
    "    splitdoc = doc.split()\n",
    "    pos=0\n",
    "    neg=0\n",
    "    for word in splitdoc:\n",
    "        if word in list(pos_dict['word']):\n",
    "            pos += 1\n",
    "        if word in list(neg_dict['word']):\n",
    "            neg += 1\n",
    "    if (pos+neg)!=0:\n",
    "        tone = (pos-neg)/(pos+neg)\n",
    "        tone_ls.append(tone)\n",
    "\n",
    "    else:\n",
    "        tone_ls.append(\"NaN\")\n",
    "\n",
    "df_new['tone']= tone_ls"
   ]
  },
  {
   "cell_type": "code",
   "execution_count": null,
   "metadata": {
    "id": "Pzlvvd0al1-Q",
    "outputId": "317116c3-bfd8-43ac-8841-1686fa86bda9"
   },
   "outputs": [
    {
     "data": {
      "text/html": [
       "<div>\n",
       "<style scoped>\n",
       "    .dataframe tbody tr th:only-of-type {\n",
       "        vertical-align: middle;\n",
       "    }\n",
       "\n",
       "    .dataframe tbody tr th {\n",
       "        vertical-align: top;\n",
       "    }\n",
       "\n",
       "    .dataframe thead th {\n",
       "        text-align: right;\n",
       "    }\n",
       "</style>\n",
       "<table border=\"1\" class=\"dataframe\">\n",
       "  <thead>\n",
       "    <tr style=\"text-align: right;\">\n",
       "      <th></th>\n",
       "      <th>tokens</th>\n",
       "      <th>tone</th>\n",
       "    </tr>\n",
       "  </thead>\n",
       "  <tbody>\n",
       "    <tr>\n",
       "      <th>0</th>\n",
       "      <td>솔직히 먹어 봤는데 트러플 접해 보지 못 일반인 차이 느끼지 못하다</td>\n",
       "      <td>-1</td>\n",
       "    </tr>\n",
       "    <tr>\n",
       "      <th>1</th>\n",
       "      <td>화사 때문 출시 된거</td>\n",
       "      <td>NaN</td>\n",
       "    </tr>\n",
       "    <tr>\n",
       "      <th>2</th>\n",
       "      <td>그냥 짜파게티 달걀후라이 가 제일 맛있음</td>\n",
       "      <td>NaN</td>\n",
       "    </tr>\n",
       "    <tr>\n",
       "      <th>3</th>\n",
       "      <td>김발 어디 갔는데 컵라면 김발 김발 어디 갔냐</td>\n",
       "      <td>NaN</td>\n",
       "    </tr>\n",
       "    <tr>\n",
       "      <th>4</th>\n",
       "      <td>오늘 하이라이트 입니다</td>\n",
       "      <td>NaN</td>\n",
       "    </tr>\n",
       "    <tr>\n",
       "      <th>5</th>\n",
       "      <td>짜파게티 맛 안나 같아서 항상 아쉬웠었는데 트러플 소스 들어가고 나서 옜날 어릴 먹...</td>\n",
       "      <td>NaN</td>\n",
       "    </tr>\n",
       "    <tr>\n",
       "      <th>6</th>\n",
       "      <td>짜파게티 컵라면 트러플 짜파게티 컵라면 제조 방법 달라 완전 포인트인디</td>\n",
       "      <td>NaN</td>\n",
       "    </tr>\n",
       "    <tr>\n",
       "      <th>7</th>\n",
       "      <td>컵라면 뚜껑 젓가락 끼워놓을수있는 있는줄 몰랐네요 완전 꿀팁 트러플 오일 제조 송로...</td>\n",
       "      <td>NaN</td>\n",
       "    </tr>\n",
       "    <tr>\n",
       "      <th>8</th>\n",
       "      <td>트러플 모아서 한 넣어서 먹어봐요</td>\n",
       "      <td>NaN</td>\n",
       "    </tr>\n",
       "    <tr>\n",
       "      <th>9</th>\n",
       "      <td>젓가락 구멍 있는거 옛날 원래 있었나요 왜 저 몰랐다</td>\n",
       "      <td>NaN</td>\n",
       "    </tr>\n",
       "  </tbody>\n",
       "</table>\n",
       "</div>"
      ],
      "text/plain": [
       "                                              tokens tone\n",
       "0              솔직히 먹어 봤는데 트러플 접해 보지 못 일반인 차이 느끼지 못하다   -1\n",
       "1                                        화사 때문 출시 된거  NaN\n",
       "2                             그냥 짜파게티 달걀후라이 가 제일 맛있음  NaN\n",
       "3                          김발 어디 갔는데 컵라면 김발 김발 어디 갔냐  NaN\n",
       "4                                       오늘 하이라이트 입니다  NaN\n",
       "5  짜파게티 맛 안나 같아서 항상 아쉬웠었는데 트러플 소스 들어가고 나서 옜날 어릴 먹...  NaN\n",
       "6            짜파게티 컵라면 트러플 짜파게티 컵라면 제조 방법 달라 완전 포인트인디  NaN\n",
       "7  컵라면 뚜껑 젓가락 끼워놓을수있는 있는줄 몰랐네요 완전 꿀팁 트러플 오일 제조 송로...  NaN\n",
       "8                                 트러플 모아서 한 넣어서 먹어봐요  NaN\n",
       "9                      젓가락 구멍 있는거 옛날 원래 있었나요 왜 저 몰랐다  NaN"
      ]
     },
     "execution_count": 98,
     "metadata": {
      "tags": []
     },
     "output_type": "execute_result"
    }
   ],
   "source": [
    "df_new.head(10)"
   ]
  },
  {
   "cell_type": "code",
   "execution_count": null,
   "metadata": {
    "id": "9nPseeLsl1-T"
   },
   "outputs": [],
   "source": []
  }
 ],
 "metadata": {
  "colab": {
   "name": "짜파게티 자연어처리_03.ipynb",
   "provenance": []
  },
  "kernelspec": {
   "display_name": "Python 3",
   "language": "python",
   "name": "python3"
  },
  "language_info": {
   "codemirror_mode": {
    "name": "ipython",
    "version": 3
   },
   "file_extension": ".py",
   "mimetype": "text/x-python",
   "name": "python",
   "nbconvert_exporter": "python",
   "pygments_lexer": "ipython3",
   "version": "3.7.9"
  }
 },
 "nbformat": 4,
 "nbformat_minor": 1
}
