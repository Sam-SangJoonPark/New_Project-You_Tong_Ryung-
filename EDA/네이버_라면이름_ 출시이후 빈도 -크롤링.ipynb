{
 "cells": [
  {
   "cell_type": "code",
   "execution_count": 10,
   "metadata": {
    "executionInfo": {
     "elapsed": 2105,
     "status": "ok",
     "timestamp": 1602061782047,
     "user": {
      "displayName": "SOYEON KIM",
      "photoUrl": "https://lh3.googleusercontent.com/a-/AOh14GhQLcmneSjIBzJBhPUGmegSxKzFwZ5ybep1Li1XjQ=s64",
      "userId": "06440042058027578691"
     },
     "user_tz": -540
    },
    "id": "-LKztUre_0-C"
   },
   "outputs": [],
   "source": [
    "import pandas as pd\n",
    "import numpy as np\n",
    "import seaborn as sns\n",
    "import matplotlib.pyplot as plt\n",
    "from datetime import date\n",
    "from dateutil.relativedelta import relativedelta\n",
    "import time\n",
    "from datetime import datetime, timedelta"
   ]
  },
  {
   "cell_type": "code",
   "execution_count": 11,
   "metadata": {
    "executionInfo": {
     "elapsed": 2092,
     "status": "ok",
     "timestamp": 1602061782049,
     "user": {
      "displayName": "SOYEON KIM",
      "photoUrl": "https://lh3.googleusercontent.com/a-/AOh14GhQLcmneSjIBzJBhPUGmegSxKzFwZ5ybep1Li1XjQ=s64",
      "userId": "06440042058027578691"
     },
     "user_tz": -540
    },
    "id": "5aUtA1dk_0-H"
   },
   "outputs": [],
   "source": [
    "import requests\n",
    "from bs4 import BeautifulSoup as bs"
   ]
  },
  {
   "cell_type": "code",
   "execution_count": 12,
   "metadata": {
    "executionInfo": {
     "elapsed": 2087,
     "status": "ok",
     "timestamp": 1602061782051,
     "user": {
      "displayName": "SOYEON KIM",
      "photoUrl": "https://lh3.googleusercontent.com/a-/AOh14GhQLcmneSjIBzJBhPUGmegSxKzFwZ5ybep1Li1XjQ=s64",
      "userId": "06440042058027578691"
     },
     "user_tz": -540
    },
    "id": "pfihGD75_0-K"
   },
   "outputs": [],
   "source": [
    "def get_naver_frequency(x,y):\n",
    "    url = 'https://search.naver.com/search.naver?where=post&query={}&st=sim&sm=tab_opt&date_from={}&date_to={}&date_option=8&srchby=all&dup_remove=1&post_blogurl=&post_blogurl_without=&nso=so%3Ar%2Ca%3Aall%2Cp%3Afrom{}to{}'\n",
    "    make_start = pd.to_datetime(str(y))\n",
    "    make_end = make_start +timedelta(days=1)\n",
    "    z = make_end.strftime('%Y%m%d')\n",
    "    \n",
    "    URL = url.format(x,y,y,y,y)\n",
    "    page = requests.get(URL)\n",
    "    time.sleep(1)\n",
    "\n",
    "    soup = bs(page.text,'html.parser')\n",
    "    content= soup.find('div',{'class':'blog section _blogBase _prs_blg'})\n",
    "    whole = content.find('div',{'class':'section_head'})\n",
    "    result = whole.find('span',{'class':'title_num'})\n",
    "    \n",
    "    if result is None:\n",
    "        return(0)  \n",
    "    else:\n",
    "        found = result.text\n",
    "        split = found.split('/')[1]\n",
    "        maybe = split.replace(\"약\",\"\")\n",
    "        number = maybe.replace(\"건\",\"\")\n",
    "        nocom = number.replace(\",\",\"\")\n",
    "        num = int(nocom)\n",
    "        return(num)"
   ]
  },
  {
   "cell_type": "code",
   "execution_count": 13,
   "metadata": {
    "executionInfo": {
     "elapsed": 2082,
     "status": "ok",
     "timestamp": 1602061782052,
     "user": {
      "displayName": "SOYEON KIM",
      "photoUrl": "https://lh3.googleusercontent.com/a-/AOh14GhQLcmneSjIBzJBhPUGmegSxKzFwZ5ybep1Li1XjQ=s64",
      "userId": "06440042058027578691"
     },
     "user_tz": -540
    },
    "id": "ieAktxo6_0-M"
   },
   "outputs": [],
   "source": [
    "def get_date_in_line(year,month,day,x):\n",
    "    start_date = date(year,month,day)\n",
    "    day_list = []\n",
    "    for how_many in range(1,x+1):\n",
    "        formattedDate = start_date.strftime(\"%Y%m%d\")\n",
    "        day_list.append(formattedDate)\n",
    "        start_date += timedelta(days=1)\n",
    "    return(day_list)"
   ]
  },
  {
   "cell_type": "code",
   "execution_count": null,
   "metadata": {},
   "outputs": [],
   "source": []
  },
  {
   "cell_type": "code",
   "execution_count": 5,
   "metadata": {
    "executionInfo": {
     "elapsed": 896,
     "status": "ok",
     "timestamp": 1602062280412,
     "user": {
      "displayName": "SOYEON KIM",
      "photoUrl": "https://lh3.googleusercontent.com/a-/AOh14GhQLcmneSjIBzJBhPUGmegSxKzFwZ5ybep1Li1XjQ=s64",
      "userId": "06440042058027578691"
     },
     "user_tz": -540
    },
    "id": "uhmYoYKX_0-P"
   },
   "outputs": [],
   "source": [
    "#크롤링 시작 날짜를 년,월,일 형태로 입력합니다\n",
    "#네번째 숫자는 크롤링 기간을 의미합니다 Ex. 600 = 시작일로부터 600일동안의 빈도수 크롤링\n",
    "start_list = get_date_in_line(2020,5,1,70)"
   ]
  },
  {
   "cell_type": "code",
   "execution_count": 6,
   "metadata": {
    "executionInfo": {
     "elapsed": 89735,
     "status": "ok",
     "timestamp": 1602062371156,
     "user": {
      "displayName": "SOYEON KIM",
      "photoUrl": "https://lh3.googleusercontent.com/a-/AOh14GhQLcmneSjIBzJBhPUGmegSxKzFwZ5ybep1Li1XjQ=s64",
      "userId": "06440042058027578691"
     },
     "user_tz": -540
    },
    "id": "6tDyboC0_0-S"
   },
   "outputs": [],
   "source": [
    "naver_frequency = []\n",
    "\n",
    "for day in start_list:\n",
    "    start = int(day)\n",
    "    naver_frequency.append(get_naver_frequency('앵그리너구리',start))"
   ]
  },
  {
   "cell_type": "code",
   "execution_count": 7,
   "metadata": {
    "executionInfo": {
     "elapsed": 88830,
     "status": "ok",
     "timestamp": 1602062371162,
     "user": {
      "displayName": "SOYEON KIM",
      "photoUrl": "https://lh3.googleusercontent.com/a-/AOh14GhQLcmneSjIBzJBhPUGmegSxKzFwZ5ybep1Li1XjQ=s64",
      "userId": "06440042058027578691"
     },
     "user_tz": -540
    },
    "id": "U9sfOw2S_0-V"
   },
   "outputs": [],
   "source": [
    "naver = pd.DataFrame({'date':start_list,'frequency':naver_frequency})"
   ]
  },
  {
   "cell_type": "code",
   "execution_count": null,
   "metadata": {},
   "outputs": [],
   "source": [
    "naver.to_csv('앵그리너구리출시이후.csv') "
   ]
  },
  {
   "cell_type": "markdown",
   "metadata": {
    "colab": {
     "base_uri": "https://localhost:8080/",
     "height": 17
    },
    "executionInfo": {
     "elapsed": 86449,
     "status": "ok",
     "timestamp": 1602062371165,
     "user": {
      "displayName": "SOYEON KIM",
      "photoUrl": "https://lh3.googleusercontent.com/a-/AOh14GhQLcmneSjIBzJBhPUGmegSxKzFwZ5ybep1Li1XjQ=s64",
      "userId": "06440042058027578691"
     },
     "user_tz": -540
    },
    "id": "W24fUt0BVvze",
    "outputId": "b2810a66-35b8-4768-bb64-93e9a8b004f4"
   },
   "source": [
    "#구글코랩 사용시 코드\n",
    "from google.colab import files\n",
    "naver.to_csv('채황라면출시이후.csv') \n",
    "files.download('채황라면출시이후.csv')"
   ]
  },
  {
   "cell_type": "code",
   "execution_count": 8,
   "metadata": {
    "id": "pxEo_IQKAWQ6"
   },
   "outputs": [],
   "source": [
    "#일자별로 게시글 빈도수를 나타내는 csv\n",
    "naver.to_csv(r'앵그리너구리출시이후.csv', index = False)"
   ]
  },
  {
   "cell_type": "code",
   "execution_count": null,
   "metadata": {
    "id": "5wQTSjAr_0-X"
   },
   "outputs": [],
   "source": [
    "#년월일로 표시된 date칼럼에서 연도와 월 정보만 추출하는 부분입니다\n",
    "date_list = list(naver['date'])\n",
    "\n",
    "new_list = []\n",
    "for item in date_list:\n",
    "    itemstr = str(item)\n",
    "    new_list.append(itemstr[0:6])\n",
    "\n",
    "naver['date'] = new_list"
   ]
  },
  {
   "cell_type": "code",
   "execution_count": null,
   "metadata": {
    "id": "0bOuywO8_0-a"
   },
   "outputs": [],
   "source": [
    "#월을 기준으로 데이터를 추합하는 부분입니다\n",
    "new_naver = naver.groupby(['date']).sum()\n",
    "rearr_X = new_naver.reset_index()"
   ]
  },
  {
   "cell_type": "code",
   "execution_count": null,
   "metadata": {
    "id": "IJBu42FY_0-e"
   },
   "outputs": [],
   "source": [
    "#월별로 게시글 빈도수를 나타내는 csv\n",
    "rearr_X.to_csv(r'파일위치\\파일명.csv', index = False)"
   ]
  }
 ],
 "metadata": {
  "colab": {
   "collapsed_sections": [],
   "name": "0.최종_네이브게시글수.ipynb",
   "provenance": []
  },
  "kernelspec": {
   "display_name": "Python 3",
   "language": "python",
   "name": "python3"
  },
  "language_info": {
   "codemirror_mode": {
    "name": "ipython",
    "version": 3
   },
   "file_extension": ".py",
   "mimetype": "text/x-python",
   "name": "python",
   "nbconvert_exporter": "python",
   "pygments_lexer": "ipython3",
   "version": "3.7.9"
  }
 },
 "nbformat": 4,
 "nbformat_minor": 1
}
