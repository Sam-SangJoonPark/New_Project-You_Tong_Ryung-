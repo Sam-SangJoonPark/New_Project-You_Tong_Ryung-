{
  "nbformat": 4,
  "nbformat_minor": 0,
  "metadata": {
    "colab": {
      "name": "Pro_코로나19 전후로 카드 사용률 비교의 사본",
      "provenance": [],
      "collapsed_sections": []
    },
    "kernelspec": {
      "name": "python3",
      "display_name": "Python 3"
    }
  },
  "cells": [
    {
      "cell_type": "markdown",
      "metadata": {
        "id": "O6sONucnc0Qt",
        "colab_type": "text"
      },
      "source": [
        "아래에 3개로 나눠진 이상한 코드들은 한글폰트 설치한 겁니다\n",
        "\n",
        "3개 실행해주신 다음에 런타임초기화 해주시고 두번째 코드부터 쭉 실행해주시면 한글화 가능합니다:)"
      ]
    },
    {
      "cell_type": "code",
      "metadata": {
        "id": "8AYz5YgQkXQi",
        "colab_type": "code",
        "colab": {
          "base_uri": "https://localhost:8080/",
          "height": 215
        },
        "outputId": "a49990ef-34ea-4be9-a9bc-0d1fde07f350"
      },
      "source": [
        "%config InlineBackend.figure_format = 'retina'\n",
        "!apt -qq -y install fonts-nanum"
      ],
      "execution_count": null,
      "outputs": [
        {
          "output_type": "stream",
          "text": [
            "The following NEW packages will be installed:\n",
            "  fonts-nanum\n",
            "0 upgraded, 1 newly installed, 0 to remove and 11 not upgraded.\n",
            "Need to get 9,604 kB of archives.\n",
            "After this operation, 29.5 MB of additional disk space will be used.\n",
            "Selecting previously unselected package fonts-nanum.\n",
            "(Reading database ... 144676 files and directories currently installed.)\n",
            "Preparing to unpack .../fonts-nanum_20170925-1_all.deb ...\n",
            "Unpacking fonts-nanum (20170925-1) ...\n",
            "Setting up fonts-nanum (20170925-1) ...\n",
            "Processing triggers for fontconfig (2.12.6-0ubuntu2) ...\n"
          ],
          "name": "stdout"
        }
      ]
    },
    {
      "cell_type": "code",
      "metadata": {
        "id": "uYIOlHHdkYvP",
        "colab_type": "code",
        "colab": {
          "base_uri": "https://localhost:8080/",
          "height": 53
        },
        "outputId": "9640f609-9ddd-47fe-ead4-be7ad50a800d"
      },
      "source": [
        "from pandas.plotting import register_matplotlib_converters\n",
        "import seaborn as sns\n",
        "import matplotlib.pyplot as plt\n",
        "import matplotlib as mpl\n",
        "import matplotlib.pyplot as plt\n",
        "import matplotlib.font_manager as fm"
      ],
      "execution_count": null,
      "outputs": [
        {
          "output_type": "stream",
          "text": [
            "/usr/local/lib/python3.6/dist-packages/statsmodels/tools/_testing.py:19: FutureWarning: pandas.util.testing is deprecated. Use the functions in the public API at pandas.testing instead.\n",
            "  import pandas.util.testing as tm\n"
          ],
          "name": "stderr"
        }
      ]
    },
    {
      "cell_type": "code",
      "metadata": {
        "id": "wd1wmwuMka33",
        "colab_type": "code",
        "colab": {}
      },
      "source": [
        "fontpath = '/usr/share/fonts/truetype/nanum/NanumBarunGothic.ttf'\n",
        "font = fm.FontProperties(fname=fontpath, size=9)\n",
        "plt.rc('font', family='NanumBarunGothic') \n",
        "plt.rcParams[\"figure.figsize\"] = (20, 10)\n",
        "register_matplotlib_converters()\n",
        "mpl.font_manager._rebuild()\n",
        "mpl.pyplot.rc('font', family='NanumGothic')\n",
        "fm._rebuild()"
      ],
      "execution_count": null,
      "outputs": []
    },
    {
      "cell_type": "code",
      "metadata": {
        "id": "yXVlRIIxcAsI",
        "colab_type": "code",
        "colab": {
          "base_uri": "https://localhost:8080/",
          "height": 35
        },
        "outputId": "6a4b0926-dd7f-47ab-e94b-e743185c963b"
      },
      "source": [
        "from google.colab import drive\n",
        "ROOT = '/content/drive'\n",
        "drive.mount(ROOT)"
      ],
      "execution_count": null,
      "outputs": [
        {
          "output_type": "stream",
          "text": [
            "Mounted at /content/drive\n"
          ],
          "name": "stdout"
        }
      ]
    },
    {
      "cell_type": "code",
      "metadata": {
        "id": "8LfyX_uWcOBj",
        "colab_type": "code",
        "colab": {
          "base_uri": "https://localhost:8080/",
          "height": 35
        },
        "outputId": "6f249abc-9025-47d4-c3f1-1dea66a0a133"
      },
      "source": [
        "%cd drive/'My Drive'/'Colab Notebooks'/'PROJECT_DATA'"
      ],
      "execution_count": null,
      "outputs": [
        {
          "output_type": "stream",
          "text": [
            "/content/drive/My Drive/Colab Notebooks/PROJECT_DATA\n"
          ],
          "name": "stdout"
        }
      ]
    },
    {
      "cell_type": "code",
      "metadata": {
        "id": "y8IiGOLocpGa",
        "colab_type": "code",
        "colab": {
          "base_uri": "https://localhost:8080/",
          "height": 53
        },
        "outputId": "515c504b-6f44-4de0-c423-865e12b4f9a5"
      },
      "source": [
        "%ls"
      ],
      "execution_count": null,
      "outputs": [
        {
          "output_type": "stream",
          "text": [
            "신한카드데이터.csv   국민카드데이터.xlsx\n",
            "신한카드데이터.xlsx  신용카드증가데이터.xlsx\n"
          ],
          "name": "stdout"
        }
      ]
    },
    {
      "cell_type": "code",
      "metadata": {
        "id": "cQ1M7EeDexty",
        "colab_type": "code",
        "colab": {}
      },
      "source": [
        "import pandas as pd\n",
        "from pandas import DataFrame\n",
        "import numpy as np\n",
        "import seaborn as sns\n",
        "import matplotlib.pyplot as plt"
      ],
      "execution_count": null,
      "outputs": []
    },
    {
      "cell_type": "code",
      "metadata": {
        "id": "v-XIwbb-daab",
        "colab_type": "code",
        "colab": {}
      },
      "source": [
        "Raw = pd.DataFrame(pd.read_excel('신한카드데이터.xlsx'))"
      ],
      "execution_count": null,
      "outputs": []
    },
    {
      "cell_type": "code",
      "metadata": {
        "id": "_SJpFIX7fCqV",
        "colab_type": "code",
        "colab": {
          "base_uri": "https://localhost:8080/",
          "height": 197
        },
        "outputId": "58fcaac8-ccf7-4b28-be27-31dd9ce7518b"
      },
      "source": [
        "Raw.info()"
      ],
      "execution_count": null,
      "outputs": [
        {
          "output_type": "stream",
          "text": [
            "<class 'pandas.core.frame.DataFrame'>\n",
            "RangeIndex: 5538 entries, 0 to 5537\n",
            "Data columns (total 3 columns):\n",
            " #   Column      Non-Null Count  Dtype \n",
            "---  ------      --------------  ----- \n",
            " 0   이용일자        5538 non-null   int64 \n",
            " 1   업종대분류       5538 non-null   object\n",
            " 2   카드결제건수(천건)  5538 non-null   int64 \n",
            "dtypes: int64(2), object(1)\n",
            "memory usage: 129.9+ KB\n"
          ],
          "name": "stdout"
        }
      ]
    },
    {
      "cell_type": "code",
      "metadata": {
        "id": "PlG22Bfdfvww",
        "colab_type": "code",
        "colab": {}
      },
      "source": [
        "Date = list(Raw['이용일자'])\n",
        "Year = []\n",
        "for item in Date:\n",
        "  if item < 20200101:\n",
        "    Year.append(2019)\n",
        "  else:\n",
        "    Year.append(2020)"
      ],
      "execution_count": null,
      "outputs": []
    },
    {
      "cell_type": "code",
      "metadata": {
        "id": "C3UNMz77hdVV",
        "colab_type": "code",
        "colab": {
          "base_uri": "https://localhost:8080/",
          "height": 452
        },
        "outputId": "d22b9a53-e10f-4612-9756-cc0591042813"
      },
      "source": [
        "Raw['Year'] = Year\n",
        "Raw.head(13)"
      ],
      "execution_count": null,
      "outputs": [
        {
          "output_type": "execute_result",
          "data": {
            "text/html": [
              "<div>\n",
              "<style scoped>\n",
              "    .dataframe tbody tr th:only-of-type {\n",
              "        vertical-align: middle;\n",
              "    }\n",
              "\n",
              "    .dataframe tbody tr th {\n",
              "        vertical-align: top;\n",
              "    }\n",
              "\n",
              "    .dataframe thead th {\n",
              "        text-align: right;\n",
              "    }\n",
              "</style>\n",
              "<table border=\"1\" class=\"dataframe\">\n",
              "  <thead>\n",
              "    <tr style=\"text-align: right;\">\n",
              "      <th></th>\n",
              "      <th>이용일자</th>\n",
              "      <th>업종대분류</th>\n",
              "      <th>카드결제건수(천건)</th>\n",
              "      <th>Year</th>\n",
              "    </tr>\n",
              "  </thead>\n",
              "  <tbody>\n",
              "    <tr>\n",
              "      <th>0</th>\n",
              "      <td>20190101</td>\n",
              "      <td>가전/가구</td>\n",
              "      <td>149</td>\n",
              "      <td>2019</td>\n",
              "    </tr>\n",
              "    <tr>\n",
              "      <th>1</th>\n",
              "      <td>20190101</td>\n",
              "      <td>가정생활/서비스</td>\n",
              "      <td>189</td>\n",
              "      <td>2019</td>\n",
              "    </tr>\n",
              "    <tr>\n",
              "      <th>2</th>\n",
              "      <td>20190101</td>\n",
              "      <td>교육/학원</td>\n",
              "      <td>142</td>\n",
              "      <td>2019</td>\n",
              "    </tr>\n",
              "    <tr>\n",
              "      <th>3</th>\n",
              "      <td>20190101</td>\n",
              "      <td>미용</td>\n",
              "      <td>464</td>\n",
              "      <td>2019</td>\n",
              "    </tr>\n",
              "    <tr>\n",
              "      <th>4</th>\n",
              "      <td>20190101</td>\n",
              "      <td>스포츠/문화/레저</td>\n",
              "      <td>1752</td>\n",
              "      <td>2019</td>\n",
              "    </tr>\n",
              "    <tr>\n",
              "      <th>5</th>\n",
              "      <td>20190101</td>\n",
              "      <td>여행/교통</td>\n",
              "      <td>260</td>\n",
              "      <td>2019</td>\n",
              "    </tr>\n",
              "    <tr>\n",
              "      <th>6</th>\n",
              "      <td>20190101</td>\n",
              "      <td>요식/유흥</td>\n",
              "      <td>9264</td>\n",
              "      <td>2019</td>\n",
              "    </tr>\n",
              "    <tr>\n",
              "      <th>7</th>\n",
              "      <td>20190101</td>\n",
              "      <td>유통</td>\n",
              "      <td>11307</td>\n",
              "      <td>2019</td>\n",
              "    </tr>\n",
              "    <tr>\n",
              "      <th>8</th>\n",
              "      <td>20190101</td>\n",
              "      <td>음/식료품</td>\n",
              "      <td>1192</td>\n",
              "      <td>2019</td>\n",
              "    </tr>\n",
              "    <tr>\n",
              "      <th>9</th>\n",
              "      <td>20190101</td>\n",
              "      <td>의료</td>\n",
              "      <td>432</td>\n",
              "      <td>2019</td>\n",
              "    </tr>\n",
              "    <tr>\n",
              "      <th>10</th>\n",
              "      <td>20190101</td>\n",
              "      <td>자동차</td>\n",
              "      <td>186</td>\n",
              "      <td>2019</td>\n",
              "    </tr>\n",
              "    <tr>\n",
              "      <th>11</th>\n",
              "      <td>20190101</td>\n",
              "      <td>주유</td>\n",
              "      <td>1782</td>\n",
              "      <td>2019</td>\n",
              "    </tr>\n",
              "    <tr>\n",
              "      <th>12</th>\n",
              "      <td>20190101</td>\n",
              "      <td>패션/잡화</td>\n",
              "      <td>415</td>\n",
              "      <td>2019</td>\n",
              "    </tr>\n",
              "  </tbody>\n",
              "</table>\n",
              "</div>"
            ],
            "text/plain": [
              "        이용일자      업종대분류  카드결제건수(천건)  Year\n",
              "0   20190101      가전/가구         149  2019\n",
              "1   20190101   가정생활/서비스         189  2019\n",
              "2   20190101      교육/학원         142  2019\n",
              "3   20190101         미용         464  2019\n",
              "4   20190101  스포츠/문화/레저        1752  2019\n",
              "5   20190101      여행/교통         260  2019\n",
              "6   20190101      요식/유흥        9264  2019\n",
              "7   20190101         유통       11307  2019\n",
              "8   20190101      음/식료품        1192  2019\n",
              "9   20190101         의료         432  2019\n",
              "10  20190101        자동차         186  2019\n",
              "11  20190101         주유        1782  2019\n",
              "12  20190101      패션/잡화         415  2019"
            ]
          },
          "metadata": {
            "tags": []
          },
          "execution_count": 32
        }
      ]
    },
    {
      "cell_type": "code",
      "metadata": {
        "id": "BOwFKVeTkN6x",
        "colab_type": "code",
        "colab": {
          "base_uri": "https://localhost:8080/",
          "height": 91
        },
        "outputId": "76b3f121-f062-48f4-d33a-477b96ae38db"
      },
      "source": [
        "Fur2019 = Raw[Raw['Year']==2019][Raw['업종대분류']=='가전/가구']\n",
        "Fur2019['카드결제건수(천건)'].sum()"
      ],
      "execution_count": null,
      "outputs": [
        {
          "output_type": "stream",
          "text": [
            "/usr/local/lib/python3.6/dist-packages/ipykernel_launcher.py:1: UserWarning: Boolean Series key will be reindexed to match DataFrame index.\n",
            "  \"\"\"Entry point for launching an IPython kernel.\n"
          ],
          "name": "stderr"
        },
        {
          "output_type": "execute_result",
          "data": {
            "text/plain": [
              "75245"
            ]
          },
          "metadata": {
            "tags": []
          },
          "execution_count": 35
        }
      ]
    },
    {
      "cell_type": "code",
      "metadata": {
        "id": "eWPfOPhfmz41",
        "colab_type": "code",
        "colab": {}
      },
      "source": [
        "def sum2019up(x):\n",
        "  data = Raw[Raw['Year']==2019][Raw['업종대분류']==x]\n",
        "  return data['카드결제건수(천건)'].sum()"
      ],
      "execution_count": null,
      "outputs": []
    },
    {
      "cell_type": "code",
      "metadata": {
        "id": "8WLYGJHIHbz3",
        "colab_type": "code",
        "colab": {}
      },
      "source": [
        "def sum2020up(x):\n",
        "  data = Raw[Raw['Year']==2020][Raw['업종대분류']==x]\n",
        "  return data['카드결제건수(천건)'].sum()"
      ],
      "execution_count": null,
      "outputs": []
    },
    {
      "cell_type": "code",
      "metadata": {
        "id": "NRdpycrIGNF_",
        "colab_type": "code",
        "colab": {
          "base_uri": "https://localhost:8080/",
          "height": 251
        },
        "outputId": "b3a56021-8282-4e62-9dec-9268227f5ce7"
      },
      "source": [
        "frame = Raw.head(13)\n",
        "data = list(frame['업종대분류'])\n",
        "category = []\n",
        "for item in data:\n",
        "  category.append(item)\n",
        "category"
      ],
      "execution_count": null,
      "outputs": [
        {
          "output_type": "execute_result",
          "data": {
            "text/plain": [
              "['가전/가구',\n",
              " '가정생활/서비스',\n",
              " '교육/학원',\n",
              " '미용',\n",
              " '스포츠/문화/레저',\n",
              " '여행/교통',\n",
              " '요식/유흥',\n",
              " '유통',\n",
              " '음/식료품',\n",
              " '의료',\n",
              " '자동차',\n",
              " '주유',\n",
              " '패션/잡화']"
            ]
          },
          "metadata": {
            "tags": []
          },
          "execution_count": 45
        }
      ]
    },
    {
      "cell_type": "code",
      "metadata": {
        "id": "TgKbdY2hGPJS",
        "colab_type": "code",
        "colab": {
          "base_uri": "https://localhost:8080/",
          "height": 307
        },
        "outputId": "fbb0e801-de79-4f66-dbc5-aa0b483f47c8"
      },
      "source": [
        "sumup2019 = []\n",
        "for item in category:\n",
        "  sumup2019.append(sum2019up(item))\n",
        "sumup2019"
      ],
      "execution_count": null,
      "outputs": [
        {
          "output_type": "stream",
          "text": [
            "/usr/local/lib/python3.6/dist-packages/ipykernel_launcher.py:2: UserWarning: Boolean Series key will be reindexed to match DataFrame index.\n",
            "  \n"
          ],
          "name": "stderr"
        },
        {
          "output_type": "execute_result",
          "data": {
            "text/plain": [
              "[75245,\n",
              " 135797,\n",
              " 89085,\n",
              " 131615,\n",
              " 395531,\n",
              " 53119,\n",
              " 2754531,\n",
              " 3380596,\n",
              " 368699,\n",
              " 597521,\n",
              " 94085,\n",
              " 530406,\n",
              " 114904]"
            ]
          },
          "metadata": {
            "tags": []
          },
          "execution_count": 47
        }
      ]
    },
    {
      "cell_type": "code",
      "metadata": {
        "id": "RtASg_cvHZ7A",
        "colab_type": "code",
        "colab": {
          "base_uri": "https://localhost:8080/",
          "height": 307
        },
        "outputId": "4445ed06-1bf6-42f1-949d-2141783ddba1"
      },
      "source": [
        "sumup2020 = []\n",
        "for item in category:\n",
        "  sumup2020.append(sum2020up(item))\n",
        "sumup2020"
      ],
      "execution_count": null,
      "outputs": [
        {
          "output_type": "stream",
          "text": [
            "/usr/local/lib/python3.6/dist-packages/ipykernel_launcher.py:2: UserWarning: Boolean Series key will be reindexed to match DataFrame index.\n",
            "  \n"
          ],
          "name": "stderr"
        },
        {
          "output_type": "execute_result",
          "data": {
            "text/plain": [
              "[52728,\n",
              " 102641,\n",
              " 56117,\n",
              " 79864,\n",
              " 241967,\n",
              " 25165,\n",
              " 1833133,\n",
              " 2329865,\n",
              " 285704,\n",
              " 464885,\n",
              " 65154,\n",
              " 360024,\n",
              " 70134]"
            ]
          },
          "metadata": {
            "tags": []
          },
          "execution_count": 50
        }
      ]
    },
    {
      "cell_type": "code",
      "metadata": {
        "id": "zNiYIi3hHqaK",
        "colab_type": "code",
        "colab": {
          "base_uri": "https://localhost:8080/",
          "height": 452
        },
        "outputId": "b0692ccd-5e99-4510-e0e8-d04313bf568f"
      },
      "source": [
        "total = pd.DataFrame([sumup2019,sumup2020],index=[2019,2020],columns=category)\n",
        "final = total.T\n",
        "final"
      ],
      "execution_count": null,
      "outputs": [
        {
          "output_type": "execute_result",
          "data": {
            "text/html": [
              "<div>\n",
              "<style scoped>\n",
              "    .dataframe tbody tr th:only-of-type {\n",
              "        vertical-align: middle;\n",
              "    }\n",
              "\n",
              "    .dataframe tbody tr th {\n",
              "        vertical-align: top;\n",
              "    }\n",
              "\n",
              "    .dataframe thead th {\n",
              "        text-align: right;\n",
              "    }\n",
              "</style>\n",
              "<table border=\"1\" class=\"dataframe\">\n",
              "  <thead>\n",
              "    <tr style=\"text-align: right;\">\n",
              "      <th></th>\n",
              "      <th>2019</th>\n",
              "      <th>2020</th>\n",
              "    </tr>\n",
              "  </thead>\n",
              "  <tbody>\n",
              "    <tr>\n",
              "      <th>가전/가구</th>\n",
              "      <td>75245</td>\n",
              "      <td>52728</td>\n",
              "    </tr>\n",
              "    <tr>\n",
              "      <th>가정생활/서비스</th>\n",
              "      <td>135797</td>\n",
              "      <td>102641</td>\n",
              "    </tr>\n",
              "    <tr>\n",
              "      <th>교육/학원</th>\n",
              "      <td>89085</td>\n",
              "      <td>56117</td>\n",
              "    </tr>\n",
              "    <tr>\n",
              "      <th>미용</th>\n",
              "      <td>131615</td>\n",
              "      <td>79864</td>\n",
              "    </tr>\n",
              "    <tr>\n",
              "      <th>스포츠/문화/레저</th>\n",
              "      <td>395531</td>\n",
              "      <td>241967</td>\n",
              "    </tr>\n",
              "    <tr>\n",
              "      <th>여행/교통</th>\n",
              "      <td>53119</td>\n",
              "      <td>25165</td>\n",
              "    </tr>\n",
              "    <tr>\n",
              "      <th>요식/유흥</th>\n",
              "      <td>2754531</td>\n",
              "      <td>1833133</td>\n",
              "    </tr>\n",
              "    <tr>\n",
              "      <th>유통</th>\n",
              "      <td>3380596</td>\n",
              "      <td>2329865</td>\n",
              "    </tr>\n",
              "    <tr>\n",
              "      <th>음/식료품</th>\n",
              "      <td>368699</td>\n",
              "      <td>285704</td>\n",
              "    </tr>\n",
              "    <tr>\n",
              "      <th>의료</th>\n",
              "      <td>597521</td>\n",
              "      <td>464885</td>\n",
              "    </tr>\n",
              "    <tr>\n",
              "      <th>자동차</th>\n",
              "      <td>94085</td>\n",
              "      <td>65154</td>\n",
              "    </tr>\n",
              "    <tr>\n",
              "      <th>주유</th>\n",
              "      <td>530406</td>\n",
              "      <td>360024</td>\n",
              "    </tr>\n",
              "    <tr>\n",
              "      <th>패션/잡화</th>\n",
              "      <td>114904</td>\n",
              "      <td>70134</td>\n",
              "    </tr>\n",
              "  </tbody>\n",
              "</table>\n",
              "</div>"
            ],
            "text/plain": [
              "              2019     2020\n",
              "가전/가구        75245    52728\n",
              "가정생활/서비스    135797   102641\n",
              "교육/학원        89085    56117\n",
              "미용          131615    79864\n",
              "스포츠/문화/레저   395531   241967\n",
              "여행/교통        53119    25165\n",
              "요식/유흥      2754531  1833133\n",
              "유통         3380596  2329865\n",
              "음/식료품       368699   285704\n",
              "의료          597521   464885\n",
              "자동차          94085    65154\n",
              "주유          530406   360024\n",
              "패션/잡화       114904    70134"
            ]
          },
          "metadata": {
            "tags": []
          },
          "execution_count": 70
        }
      ]
    },
    {
      "cell_type": "code",
      "metadata": {
        "id": "2eroFG9cUpkH",
        "colab_type": "code",
        "colab": {}
      },
      "source": [
        "def percentage_change(current, previous):\n",
        "    if previous != 0 :\n",
        "        return float(current - previous) / abs(previous) * 100\n",
        "    else:\n",
        "        return \"undefined\""
      ],
      "execution_count": null,
      "outputs": []
    },
    {
      "cell_type": "code",
      "metadata": {
        "id": "_f1SbAWlXZ5K",
        "colab_type": "code",
        "colab": {
          "base_uri": "https://localhost:8080/",
          "height": 251
        },
        "outputId": "a522c937-aee0-4aab-a643-b72b309d831d"
      },
      "source": [
        "change = []\n",
        "for number in range(0,13):\n",
        "  change.append(percentage_change(final.iloc[number,0:2].values[1],final.iloc[number,0:2].values[0]))\n",
        "change"
      ],
      "execution_count": null,
      "outputs": [
        {
          "output_type": "execute_result",
          "data": {
            "text/plain": [
              "[-29.924911954282678,\n",
              " -24.415856020383366,\n",
              " -37.007352528484034,\n",
              " -39.319986323747294,\n",
              " -38.82476973991925,\n",
              " -52.62523767390199,\n",
              " -33.45026794034992,\n",
              " -31.081235379796933,\n",
              " -22.510231923601637,\n",
              " -22.197713553163823,\n",
              " -30.749853855556147,\n",
              " -32.122939785749026,\n",
              " -38.96296038432082]"
            ]
          },
          "metadata": {
            "tags": []
          },
          "execution_count": 90
        }
      ]
    },
    {
      "cell_type": "code",
      "metadata": {
        "id": "PeIga8iIVmva",
        "colab_type": "code",
        "colab": {
          "base_uri": "https://localhost:8080/",
          "height": 452
        },
        "outputId": "94673e8b-f582-44fe-b03d-55f4427a076d"
      },
      "source": [
        "final['감소율']=change\n",
        "final"
      ],
      "execution_count": null,
      "outputs": [
        {
          "output_type": "execute_result",
          "data": {
            "text/html": [
              "<div>\n",
              "<style scoped>\n",
              "    .dataframe tbody tr th:only-of-type {\n",
              "        vertical-align: middle;\n",
              "    }\n",
              "\n",
              "    .dataframe tbody tr th {\n",
              "        vertical-align: top;\n",
              "    }\n",
              "\n",
              "    .dataframe thead th {\n",
              "        text-align: right;\n",
              "    }\n",
              "</style>\n",
              "<table border=\"1\" class=\"dataframe\">\n",
              "  <thead>\n",
              "    <tr style=\"text-align: right;\">\n",
              "      <th></th>\n",
              "      <th>2019</th>\n",
              "      <th>2020</th>\n",
              "      <th>감소율</th>\n",
              "    </tr>\n",
              "  </thead>\n",
              "  <tbody>\n",
              "    <tr>\n",
              "      <th>가전/가구</th>\n",
              "      <td>75245</td>\n",
              "      <td>52728</td>\n",
              "      <td>-29.924912</td>\n",
              "    </tr>\n",
              "    <tr>\n",
              "      <th>가정생활/서비스</th>\n",
              "      <td>135797</td>\n",
              "      <td>102641</td>\n",
              "      <td>-24.415856</td>\n",
              "    </tr>\n",
              "    <tr>\n",
              "      <th>교육/학원</th>\n",
              "      <td>89085</td>\n",
              "      <td>56117</td>\n",
              "      <td>-37.007353</td>\n",
              "    </tr>\n",
              "    <tr>\n",
              "      <th>미용</th>\n",
              "      <td>131615</td>\n",
              "      <td>79864</td>\n",
              "      <td>-39.319986</td>\n",
              "    </tr>\n",
              "    <tr>\n",
              "      <th>스포츠/문화/레저</th>\n",
              "      <td>395531</td>\n",
              "      <td>241967</td>\n",
              "      <td>-38.824770</td>\n",
              "    </tr>\n",
              "    <tr>\n",
              "      <th>여행/교통</th>\n",
              "      <td>53119</td>\n",
              "      <td>25165</td>\n",
              "      <td>-52.625238</td>\n",
              "    </tr>\n",
              "    <tr>\n",
              "      <th>요식/유흥</th>\n",
              "      <td>2754531</td>\n",
              "      <td>1833133</td>\n",
              "      <td>-33.450268</td>\n",
              "    </tr>\n",
              "    <tr>\n",
              "      <th>유통</th>\n",
              "      <td>3380596</td>\n",
              "      <td>2329865</td>\n",
              "      <td>-31.081235</td>\n",
              "    </tr>\n",
              "    <tr>\n",
              "      <th>음/식료품</th>\n",
              "      <td>368699</td>\n",
              "      <td>285704</td>\n",
              "      <td>-22.510232</td>\n",
              "    </tr>\n",
              "    <tr>\n",
              "      <th>의료</th>\n",
              "      <td>597521</td>\n",
              "      <td>464885</td>\n",
              "      <td>-22.197714</td>\n",
              "    </tr>\n",
              "    <tr>\n",
              "      <th>자동차</th>\n",
              "      <td>94085</td>\n",
              "      <td>65154</td>\n",
              "      <td>-30.749854</td>\n",
              "    </tr>\n",
              "    <tr>\n",
              "      <th>주유</th>\n",
              "      <td>530406</td>\n",
              "      <td>360024</td>\n",
              "      <td>-32.122940</td>\n",
              "    </tr>\n",
              "    <tr>\n",
              "      <th>패션/잡화</th>\n",
              "      <td>114904</td>\n",
              "      <td>70134</td>\n",
              "      <td>-38.962960</td>\n",
              "    </tr>\n",
              "  </tbody>\n",
              "</table>\n",
              "</div>"
            ],
            "text/plain": [
              "              2019     2020        감소율\n",
              "가전/가구        75245    52728 -29.924912\n",
              "가정생활/서비스    135797   102641 -24.415856\n",
              "교육/학원        89085    56117 -37.007353\n",
              "미용          131615    79864 -39.319986\n",
              "스포츠/문화/레저   395531   241967 -38.824770\n",
              "여행/교통        53119    25165 -52.625238\n",
              "요식/유흥      2754531  1833133 -33.450268\n",
              "유통         3380596  2329865 -31.081235\n",
              "음/식료품       368699   285704 -22.510232\n",
              "의료          597521   464885 -22.197714\n",
              "자동차          94085    65154 -30.749854\n",
              "주유          530406   360024 -32.122940\n",
              "패션/잡화       114904    70134 -38.962960"
            ]
          },
          "metadata": {
            "tags": []
          },
          "execution_count": 92
        }
      ]
    },
    {
      "cell_type": "code",
      "metadata": {
        "id": "cNaTtH2JXejR",
        "colab_type": "code",
        "colab": {
          "base_uri": "https://localhost:8080/",
          "height": 673
        },
        "outputId": "6b64051b-3460-473b-9b49-42466b95f8ed"
      },
      "source": [
        "x = np.arange(len(category))\n",
        "width = 0.35\n",
        "\n",
        "fig, ax = plt.subplots()\n",
        "rects1=ax.bar(x - width/2, sumup2019, width, label='2019')\n",
        "rects2=ax.bar(x + width/2, sumup2020, width, label='2020')\n",
        "ax.legend() \n",
        "\n",
        "def autolabel(rects):\n",
        "    for rect in rects:\n",
        "        height = rect.get_height() #막대의 높이를 height로 지정\n",
        "        ax.annotate('{}'.format(height),\n",
        "                    xy=(rect.get_x() + rect.get_width() / 2, height),\n",
        "                    xytext=(0, 3),  # 3 points vertical offset\n",
        "                    textcoords=\"offset points\",\n",
        "                    ha='center', va='bottom')\n",
        "        \n",
        "autolabel(rects1)\n",
        "autolabel(rects2)\n",
        "ax.set_xticks(x)\n",
        "ax.set_xticklabels(category)\n",
        "\n",
        "ax2 = ax.twinx()\n",
        "ax2.plot(change,\n",
        "         linestyle='-',\n",
        "         marker='o', linewidth=2.0)\n",
        "plt.show()"
      ],
      "execution_count": null,
      "outputs": [
        {
          "output_type": "stream",
          "text": [
            "/usr/local/lib/python3.6/dist-packages/matplotlib/backends/backend_agg.py:214: RuntimeWarning: Glyph 8722 missing from current font.\n",
            "  font.set_text(s, 0.0, flags=flags)\n",
            "/usr/local/lib/python3.6/dist-packages/matplotlib/backends/backend_agg.py:183: RuntimeWarning: Glyph 8722 missing from current font.\n",
            "  font.set_text(s, 0, flags=flags)\n"
          ],
          "name": "stderr"
        },
        {
          "output_type": "display_data",
          "data": {
            "image/png": "[encoded data removed]",
            "text/plain": [
              "<Figure size 1440x720 with 2 Axes>"
            ]
          },
          "metadata": {
            "tags": [],
            "needs_background": "light"
          }
        }
      ]
    },
    {
      "cell_type": "code",
      "metadata": {
        "id": "PtMqC7yEZAZt",
        "colab_type": "code",
        "colab": {}
      },
      "source": [
        ""
      ],
      "execution_count": null,
      "outputs": []
    }
  ]
}